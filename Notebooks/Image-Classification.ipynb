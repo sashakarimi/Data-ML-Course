{
 "cells": [
  {
   "cell_type": "markdown",
   "metadata": {},
   "source": [
    "# Working with Images\n",
    "\n",
    "A neural network for classifying a famous image dataset."
   ]
  },
  {
   "cell_type": "markdown",
   "metadata": {},
   "source": [
    "**ACKNOWLEDGEMENT**\n",
    "\n",
    "**The MNIST data loader is adapted from https://github.com/sorki/python-mnist/blob/master/mnist/loader.py.\n",
    "\n",
    "Also stole  ideas and code from Sonya Sawtelle's excellent blog at http://sdsawtelle.github.io/blog/output/week4-andrew-ng-machine-learning-with-python.html.**"
   ]
  },
  {
   "cell_type": "markdown",
   "metadata": {},
   "source": [
    "In this notebook we're going to use neural networks in the SciKit Learn library to learn how to classify two datasets.  Instead of learning how to implement neural networks from scratch we're going to use off-the-shelf neural networks. But we're going to learn how a neural network works by probing its behavior in various ways. \n",
    "\n",
    "The first dataset is quite well known - it's a handwritten set of digits -- a bunch of images from a famous dataset called MNIST (http://yann.lecun.com/exdb/mnist/). Let's start with the MNIST dataset.\n",
    "\n",
    "The second dataset is a simple dataset with 2 attributes and a binary target value. It's easy to visualize."
   ]
  },
  {
   "cell_type": "code",
   "execution_count": 1,
   "metadata": {},
   "outputs": [],
   "source": [
    "# Get access to the MNIST class defined in mnist_loader.py\n",
    "# mnist_loader.py contains methods for loading and displaying the MNIST data\n",
    "%run mnist_loader.py"
   ]
  },
  {
   "cell_type": "code",
   "execution_count": 2,
   "metadata": {},
   "outputs": [],
   "source": [
    "# Import our usual libraries\n",
    "from __future__ import division \n",
    "import numpy as np\n",
    "from numpy import random as rnd\n",
    "import pandas as pd\n",
    "import matplotlib.pyplot as plt\n",
    "%matplotlib inline\n",
    "import seaborn as sns\n",
    "import os"
   ]
  },
  {
   "cell_type": "markdown",
   "metadata": {},
   "source": [
    "## The Problem\n",
    "\n",
    "Handwriting is messy. Can we decipher hand-written digits? "
   ]
  },
  {
   "cell_type": "markdown",
   "metadata": {},
   "source": [
    "## Load the MNIST Data\n",
    "\n",
    "We'll adapt a package from GitHub that allows us to read the second dataset and display the images in it."
   ]
  },
  {
   "cell_type": "code",
   "execution_count": 3,
   "metadata": {},
   "outputs": [
    {
     "data": {
      "text/plain": [
       "__main__.MNIST"
      ]
     },
     "execution_count": 3,
     "metadata": {},
     "output_type": "execute_result"
    }
   ],
   "source": [
    "# Initialize the mnist object\n",
    "mnist = MNIST()\n",
    "type(mnist)"
   ]
  },
  {
   "cell_type": "code",
   "execution_count": 4,
   "metadata": {},
   "outputs": [],
   "source": [
    "# Get the testing images and labels\n",
    "test_images, test_labels = mnist.load_testing()"
   ]
  },
  {
   "cell_type": "code",
   "execution_count": 5,
   "metadata": {},
   "outputs": [
    {
     "data": {
      "text/plain": [
       "(list, array.array)"
      ]
     },
     "execution_count": 5,
     "metadata": {},
     "output_type": "execute_result"
    }
   ],
   "source": [
    "type(test_images), type(test_labels)"
   ]
  },
  {
   "cell_type": "code",
   "execution_count": 6,
   "metadata": {},
   "outputs": [
    {
     "data": {
      "text/plain": [
       "<matplotlib.image.AxesImage at 0x1ffba44f080>"
      ]
     },
     "execution_count": 6,
     "metadata": {},
     "output_type": "execute_result"
    },
    {
     "data": {
      "image/png": "[encoded data removed]",
      "text/plain": [
       "<Figure size 432x288 with 1 Axes>"
      ]
     },
     "metadata": {
      "needs_background": "light"
     },
     "output_type": "display_data"
    }
   ],
   "source": [
    "mnist.display(test_images[4000])"
   ]
  },
  {
   "cell_type": "code",
   "execution_count": 7,
   "metadata": {},
   "outputs": [],
   "source": [
    "# Get the training images and labels\n",
    "train_images, train_labels = mnist.load_training()"
   ]
  },
  {
   "cell_type": "code",
   "execution_count": 8,
   "metadata": {},
   "outputs": [
    {
     "data": {
      "text/plain": [
       "<matplotlib.image.AxesImage at 0x1ffc56b8be0>"
      ]
     },
     "execution_count": 8,
     "metadata": {},
     "output_type": "execute_result"
    },
    {
     "data": {
      "image/png": "[encoded data removed]",
      "text/plain": [
       "<Figure size 432x288 with 1 Axes>"
      ]
     },
     "metadata": {
      "needs_background": "light"
     },
     "output_type": "display_data"
    }
   ],
   "source": [
    "mnist.display(train_images[3390])"
   ]
  },
  {
   "cell_type": "code",
   "execution_count": 9,
   "metadata": {},
   "outputs": [
    {
     "data": {
      "text/plain": [
       "[60000, 60000, 10000, 10000]"
      ]
     },
     "execution_count": 9,
     "metadata": {},
     "output_type": "execute_result"
    }
   ],
   "source": [
    "# How many images and labels in the training and test datasets?\n",
    "[len(d) for d in [train_images, train_labels, test_images, test_labels]]"
   ]
  },
  {
   "cell_type": "code",
   "execution_count": 10,
   "metadata": {},
   "outputs": [
    {
     "data": {
      "text/plain": [
       "[(60000, 784), (60000,), (10000, 784), (10000,)]"
      ]
     },
     "execution_count": 10,
     "metadata": {},
     "output_type": "execute_result"
    }
   ],
   "source": [
    "# Size of the datasets\n",
    "[np.array(d).shape for d in [train_images, train_labels, test_images, test_labels]]"
   ]
  },
  {
   "cell_type": "code",
   "execution_count": 11,
   "metadata": {},
   "outputs": [
    {
     "data": {
      "text/plain": [
       "[0, 1, 2, 3, 4, 5, 6, 7, 8, 9]"
      ]
     },
     "execution_count": 11,
     "metadata": {},
     "output_type": "execute_result"
    }
   ],
   "source": [
    "# How many unique digits do we have handwriting examples for?\n",
    "list(set(test_labels))"
   ]
  },
  {
   "cell_type": "code",
   "execution_count": 12,
   "metadata": {},
   "outputs": [],
   "source": [
    "# Finally, extract the data as inputs to the neural network classifier.\n",
    "# Scale the data and one-hot encode the labels\n",
    "from sklearn.preprocessing import OneHotEncoder\n",
    "enc = OneHotEncoder()\n",
    "\n",
    "X_train = np.array(train_images)/255 # rescale to values between 0 and 1\n",
    "# One-hot encode\n",
    "y_train = enc.fit_transform(np.array(train_labels).reshape(-1,1)).toarray()\n",
    "\n",
    "X_test = np.array(test_images)/255 # rescale\n",
    "# One-hot encode\n",
    "y_test = enc.fit_transform(np.array(test_labels).reshape(-1,1)).toarray()"
   ]
  },
  {
   "cell_type": "code",
   "execution_count": 13,
   "metadata": {},
   "outputs": [
    {
     "data": {
      "text/plain": [
       "array([0., 0., 0., 0., 0., 1., 0., 0., 0., 0.])"
      ]
     },
     "execution_count": 13,
     "metadata": {},
     "output_type": "execute_result"
    }
   ],
   "source": [
    "# One hot encode the label\n",
    "y_train[2000]"
   ]
  },
  {
   "cell_type": "code",
   "execution_count": 14,
   "metadata": {},
   "outputs": [
    {
     "data": {
      "text/plain": [
       "<matplotlib.image.AxesImage at 0x1ffc5cad5c0>"
      ]
     },
     "execution_count": 14,
     "metadata": {},
     "output_type": "execute_result"
    },
    {
     "data": {
      "image/png": "[encoded data removed]",
      "text/plain": [
       "<Figure size 432x288 with 1 Axes>"
      ]
     },
     "metadata": {
      "needs_background": "light"
     },
     "output_type": "display_data"
    }
   ],
   "source": [
    "# Check the one-hot encoding\n",
    "mnist.display(X_train[2000])"
   ]
  },
  {
   "cell_type": "code",
   "execution_count": 84,
   "metadata": {},
   "outputs": [
    {
     "name": "stdout",
     "output_type": "stream",
     "text": [
      "Wall time: 3min 16s\n"
     ]
    },
    {
     "name": "stderr",
     "output_type": "stream",
     "text": [
      "C:\\Users\\jsubrama.GARTNER\\AppData\\Local\\Continuum\\anaconda3\\lib\\site-packages\\sklearn\\neural_network\\multilayer_perceptron.py:564: ConvergenceWarning: Stochastic Optimizer: Maximum iterations (300) reached and the optimization hasn't converged yet.\n",
      "  % self.max_iter, ConvergenceWarning)\n"
     ]
    }
   ],
   "source": [
    "%%time\n",
    "# We need a multi-level classifier because we have to classify digits into 0 through 9 distinct classes.\n",
    "\n",
    "from sklearn.neural_network import MLPClassifier\n",
    "# Hidden layers are specified as follows\n",
    "# (n1, ) means n1 units and 1 hidden layer\n",
    "# (n1, n2) means n1 units in the first hidden layer and n2 units in the second hidden layer\n",
    "# (n1, n2, n3) maeans n1 units in the first hidden layer, n2 units in the second hidden layer,\n",
    "#    and n3 units in the third hidden layer\n",
    "# Experiment with max_iter -- set it to 10, 50, 100, 200 to see how the neural network behaves\n",
    "clf = MLPClassifier(solver='sgd', alpha=1e-5,\n",
    "                    hidden_layer_sizes=(25, 25, 25), random_state=1, verbose=False, max_iter=300)\n",
    "\n",
    "clf.fit(X_train, y_train) "
   ]
  },
  {
   "cell_type": "code",
   "execution_count": 85,
   "metadata": {},
   "outputs": [
    {
     "data": {
      "text/plain": [
       "[<matplotlib.lines.Line2D at 0x1ff82bd3710>]"
      ]
     },
     "execution_count": 85,
     "metadata": {},
     "output_type": "execute_result"
    },
    {
     "data": {
      "image/png": "[encoded data removed]",
      "text/plain": [
       "<Figure size 576x360 with 1 Axes>"
      ]
     },
     "metadata": {
      "needs_background": "light"
     },
     "output_type": "display_data"
    }
   ],
   "source": [
    "# How quickly is the classifier learning?\n",
    "fig, ax = plt.subplots(figsize=(8,5))\n",
    "plt.plot(clf.loss_curve_)"
   ]
  },
  {
   "cell_type": "code",
   "execution_count": 86,
   "metadata": {},
   "outputs": [
    {
     "data": {
      "text/plain": [
       "array([[0, 0, 0, 0, 0, 0, 0, 1, 0, 0],\n",
       "       [0, 0, 1, 0, 0, 0, 0, 0, 0, 0],\n",
       "       [0, 1, 0, 0, 0, 0, 0, 0, 0, 0],\n",
       "       [1, 0, 0, 0, 0, 0, 0, 0, 0, 0],\n",
       "       [0, 0, 0, 0, 1, 0, 0, 0, 0, 0]])"
      ]
     },
     "execution_count": 86,
     "metadata": {},
     "output_type": "execute_result"
    }
   ],
   "source": [
    "# The classifier's predictions for the first 5 images in the test dataset\n",
    "clf.predict(X_test[0:5])"
   ]
  },
  {
   "cell_type": "markdown",
   "metadata": {},
   "source": [
    "When the number of learning iterations is low, the model will often not make any predictions. You'll see all zeros in some or most of the arrays above. Sometimes you'll see multiple ones appear in a row -- that shows the classifier is (eerie!) confused about what number it is and makes a couple of best guesses. "
   ]
  },
  {
   "cell_type": "code",
   "execution_count": 88,
   "metadata": {},
   "outputs": [
    {
     "data": {
      "text/plain": [
       "<matplotlib.image.AxesImage at 0x1ff82d85240>"
      ]
     },
     "execution_count": 88,
     "metadata": {},
     "output_type": "execute_result"
    },
    {
     "data": {
      "image/png": "[encoded data removed]",
      "text/plain": [
       "<Figure size 432x288 with 1 Axes>"
      ]
     },
     "metadata": {
      "needs_background": "light"
     },
     "output_type": "display_data"
    }
   ],
   "source": [
    "# Check if the first prediction read off from the one-hot encoding in the first list above\n",
    "#  matches with the classifier's prediction\n",
    "mnist.display(test_images[0])"
   ]
  },
  {
   "cell_type": "code",
   "execution_count": 89,
   "metadata": {},
   "outputs": [
    {
     "data": {
      "text/plain": [
       "<matplotlib.image.AxesImage at 0x1ff82ddd048>"
      ]
     },
     "execution_count": 89,
     "metadata": {},
     "output_type": "execute_result"
    },
    {
     "data": {
      "image/png": "[encoded data removed]",
      "text/plain": [
       "<Figure size 432x288 with 1 Axes>"
      ]
     },
     "metadata": {
      "needs_background": "light"
     },
     "output_type": "display_data"
    }
   ],
   "source": [
    "mnist.display(test_images[3])"
   ]
  },
  {
   "cell_type": "code",
   "execution_count": 90,
   "metadata": {},
   "outputs": [
    {
     "data": {
      "text/plain": [
       "array([[1, 0, 0, 0, 0, 0, 0, 0, 0, 0],\n",
       "       [0, 0, 0, 0, 0, 1, 0, 0, 0, 0],\n",
       "       [0, 1, 0, 0, 0, 0, 0, 0, 0, 0],\n",
       "       [0, 0, 0, 0, 0, 0, 0, 1, 0, 0],\n",
       "       [0, 0, 0, 0, 0, 1, 0, 0, 0, 0],\n",
       "       [0, 0, 0, 0, 0, 0, 1, 0, 0, 0],\n",
       "       [0, 0, 0, 0, 0, 0, 1, 0, 0, 0],\n",
       "       [0, 0, 0, 0, 0, 0, 0, 1, 0, 0],\n",
       "       [0, 0, 0, 0, 0, 0, 0, 0, 0, 1],\n",
       "       [0, 0, 1, 0, 0, 0, 0, 0, 0, 0]])"
      ]
     },
     "execution_count": 90,
     "metadata": {},
     "output_type": "execute_result"
    }
   ],
   "source": [
    "# Select n_sel random images from the test dataset -- we have 10,000 test images in total (see above)\n",
    "n_total = 10000\n",
    "n_sel = 10\n",
    "test_image_ids = rnd.choice(range(0,n_total - 1), n_sel, replace=False)\n",
    "\n",
    "# for each of these image ids, get the test image\n",
    "test_images_sel = [X_test[i] for i in test_image_ids]\n",
    "\n",
    "# for each of these image ids, get the result from the classifier\n",
    "clf.predict(test_images_sel)"
   ]
  },
  {
   "cell_type": "code",
   "execution_count": 91,
   "metadata": {},
   "outputs": [
    {
     "data": {
      "image/png": "[encoded data removed]",
      "text/plain": [
       "<Figure size 720x720 with 10 Axes>"
      ]
     },
     "metadata": {
      "needs_background": "light"
     },
     "output_type": "display_data"
    }
   ],
   "source": [
    "# Now show these randomly selected test images and our neural net classifier's prediction based on its training\n",
    "# Adapted from Sonya Sawtelle\n",
    "# http://sdsawtelle.github.io/blog/output/week4-andrew-ng-machine-learning-with-python.html\n",
    "fig, axs = plt.subplots(2, 5, sharex=True, sharey=True, figsize=(10,10)) \n",
    "axs = axs.flatten()  # The returned axs is actually a matrix holding the handles to all the subplot axes objects\n",
    "graymap = plt.get_cmap(\"gray\")\n",
    "\n",
    "for i, indx in enumerate(test_image_ids):\n",
    "    im_mat = np.reshape(test_images_sel[i], (28, 28))\n",
    "    labl = str(np.where(clf.predict(test_images_sel[i].reshape(1, -1))[0] == 1)[0])  \n",
    "    \n",
    "    # Plot the image along with the label it is assigned by the fitted model.\n",
    "    axs[i].imshow(im_mat, cmap=graymap, interpolation=\"None\")\n",
    "    axs[i].annotate(labl, xy=(0.05, 0.85), xycoords=\"axes fraction\", color=\"red\", fontsize=18)\n",
    "    axs[i].xaxis.set_visible(False)  # Hide the axes labels for clarity\n",
    "    axs[i].yaxis.set_visible(False) "
   ]
  },
  {
   "cell_type": "markdown",
   "metadata": {},
   "source": [
    "That's close to perfect, but just a small sample of the test dataset. But not bad for just using a pretty basic neural network. How does the classifier do over the entire dataset?"
   ]
  },
  {
   "cell_type": "code",
   "execution_count": 92,
   "metadata": {
    "scrolled": true
   },
   "outputs": [
    {
     "name": "stdout",
     "output_type": "stream",
     "text": [
      "Training set score: 0.981150\n",
      "Test set score: 0.949700\n"
     ]
    }
   ],
   "source": [
    "# How well does the classifer perform?\n",
    "print(\"Training set score: %f\" % clf.score(X_train, y_train))\n",
    "print(\"Test set score: %f\" % clf.score(X_test, y_test))"
   ]
  },
  {
   "cell_type": "code",
   "execution_count": 93,
   "metadata": {},
   "outputs": [],
   "source": [
    "# Misclassification of the test dataset\n",
    "# Get all the results in terms of success or failure\n",
    "results = [(clf.predict(X_test[i].reshape(1,-1)) == y_test[i]).all() for i in range(len(X_test))]\n",
    "# Get the index numbers of all the failures\n",
    "idx_failures = [i for i, x in enumerate(results) if x == False]\n",
    "\n",
    "# At the same time, get the index numbers of all the successful predictions\n",
    "idx_successes = [i for i, x in enumerate(results) if x == True]"
   ]
  },
  {
   "cell_type": "code",
   "execution_count": 94,
   "metadata": {},
   "outputs": [
    {
     "data": {
      "text/plain": [
       "[33, 61, 111, 121, 149]"
      ]
     },
     "execution_count": 94,
     "metadata": {},
     "output_type": "execute_result"
    }
   ],
   "source": [
    "# Quick check on test images that are not classified correctly\n",
    "idx_failures[0:5]"
   ]
  },
  {
   "cell_type": "code",
   "execution_count": 95,
   "metadata": {},
   "outputs": [
    {
     "name": "stdout",
     "output_type": "stream",
     "text": [
      "[[1 0 0 0 1 0 0 0 0 0]]\n",
      "[[0 0 1 0 0 0 0 0 1 0]]\n",
      "[[0 1 0 0 0 0 0 1 0 0]]\n"
     ]
    },
    {
     "data": {
      "image/png": "[encoded data removed]",
      "text/plain": [
       "<Figure size 432x288 with 1 Axes>"
      ]
     },
     "metadata": {
      "needs_background": "light"
     },
     "output_type": "display_data"
    },
    {
     "data": {
      "image/png": "[encoded data removed]",
      "text/plain": [
       "<Figure size 432x288 with 1 Axes>"
      ]
     },
     "metadata": {
      "needs_background": "light"
     },
     "output_type": "display_data"
    },
    {
     "data": {
      "image/png": "[encoded data removed]",
      "text/plain": [
       "<Figure size 432x288 with 1 Axes>"
      ]
     },
     "metadata": {
      "needs_background": "light"
     },
     "output_type": "display_data"
    }
   ],
   "source": [
    "# Let's check on the misclassification for the first few failures\n",
    "for i in idx_failures[0:3]:\n",
    "    print(clf.predict(X_test[i].reshape(1,-1)))\n",
    "    plt.figure()\n",
    "    mnist.display(X_test[i])"
   ]
  },
  {
   "cell_type": "markdown",
   "metadata": {},
   "source": [
    "We can see the kind of mistakes the classifier is making. Let's be systematic and figure out if there's a way in which the classifier is prone to making mistakes. One way to investigate this is to look at every digit in the test set and see how the classifier fails to identify that digit. "
   ]
  },
  {
   "cell_type": "code",
   "execution_count": 96,
   "metadata": {},
   "outputs": [],
   "source": [
    "# The classifier's failure patterns\n",
    "combined_errors_labels = []\n",
    "for i in idx_failures:\n",
    "    pred = clf.predict(X_test[i].reshape(1,-1))\n",
    "    pred_value = np.where(pred[0] == 1)[0]\n",
    "    if pred_value.size == 0:\n",
    "        pred_value = [10] #  NOTE: 10 means no prediction is made\n",
    "    label = y_test[i]\n",
    "    label_value = np.squeeze(np.where(label == 1)[0]) #np.squeeze to make into an integer\n",
    "    combined_values = [pred_value, label_value]\n",
    "    combined_errors_labels.append(combined_values)"
   ]
  },
  {
   "cell_type": "code",
   "execution_count": 97,
   "metadata": {},
   "outputs": [],
   "source": [
    "# The classifier's success patterns\n",
    "combined_success_labels = []\n",
    "for i in idx_successes:\n",
    "    pred = clf.predict(X_test[i].reshape(1,-1))\n",
    "    pred_value = np.where(pred[0] == 1)[0]\n",
    "    # This if clause will never fire...\n",
    "    if pred_value.size == 0:\n",
    "        pred_value = [10] #  NOTE: 10 means no prediction is made\n",
    "    label = y_test[i]\n",
    "    label_value = np.squeeze(np.where(label == 1)[0]) #np.squeeze to make into an integer\n",
    "    combined_values = [pred_value, label_value]\n",
    "    combined_success_labels.append(combined_values)"
   ]
  },
  {
   "cell_type": "code",
   "execution_count": 98,
   "metadata": {},
   "outputs": [
    {
     "data": {
      "text/plain": [
       "[[array([7], dtype=int64), array(7, dtype=int64)],\n",
       " [array([2], dtype=int64), array(2, dtype=int64)],\n",
       " [array([1], dtype=int64), array(1, dtype=int64)],\n",
       " [array([0], dtype=int64), array(0, dtype=int64)],\n",
       " [array([4], dtype=int64), array(4, dtype=int64)]]"
      ]
     },
     "execution_count": 98,
     "metadata": {},
     "output_type": "execute_result"
    }
   ],
   "source": [
    "combined_success_labels[0:5]"
   ]
  },
  {
   "cell_type": "code",
   "execution_count": 99,
   "metadata": {},
   "outputs": [],
   "source": [
    "# Get the count of successes by digit\n",
    "# NOTE: This would be much easier if the data were in a Pandas dataframe. Alas...\n",
    "# Create a list of indexed variables\n",
    "correct_classified_0 = []\n",
    "correct_classified_1 = []\n",
    "correct_classified_2 = []\n",
    "correct_classified_3 = []\n",
    "correct_classified_4 = []\n",
    "correct_classified_5 = []\n",
    "correct_classified_6 = []\n",
    "correct_classified_7 = []\n",
    "correct_classified_8 = []\n",
    "correct_classified_9 = []\n",
    "\n",
    "outcomes = ['0', '1', '2', '3', '4', '5', '6', '7', '8', '9']\n",
    "\n",
    "for i in range(len(outcomes)):\n",
    "    eval('correct_classified_'+ outcomes[i]).append(combined_success_labels.count([[i], [i]]))"
   ]
  },
  {
   "cell_type": "code",
   "execution_count": 30,
   "metadata": {},
   "outputs": [
    {
     "data": {
      "text/plain": [
       "[954]"
      ]
     },
     "execution_count": 30,
     "metadata": {},
     "output_type": "execute_result"
    }
   ],
   "source": [
    "correct_classified_0"
   ]
  },
  {
   "cell_type": "code",
   "execution_count": 100,
   "metadata": {},
   "outputs": [
    {
     "data": {
      "text/plain": [
       "[[array([0, 4], dtype=int64), array(4, dtype=int64)],\n",
       " [array([2, 8], dtype=int64), array(8, dtype=int64)],\n",
       " [array([1, 7], dtype=int64), array(7, dtype=int64)],\n",
       " [[10], array(4, dtype=int64)],\n",
       " [array([4], dtype=int64), array(2, dtype=int64)]]"
      ]
     },
     "execution_count": 100,
     "metadata": {},
     "output_type": "execute_result"
    }
   ],
   "source": [
    "combined_errors_labels[0:5]"
   ]
  },
  {
   "cell_type": "code",
   "execution_count": 101,
   "metadata": {},
   "outputs": [
    {
     "name": "stdout",
     "output_type": "stream",
     "text": [
      "+----------------------+----------------+\n",
      "| Classfier Predicts   |   Actual Value |\n",
      "+======================+================+\n",
      "| [0 4]                |              4 |\n",
      "+----------------------+----------------+\n",
      "| [2 8]                |              8 |\n",
      "+----------------------+----------------+\n",
      "| [1 7]                |              7 |\n",
      "+----------------------+----------------+\n",
      "| [10]                 |              4 |\n",
      "+----------------------+----------------+\n",
      "| [4]                  |              2 |\n",
      "+----------------------+----------------+\n",
      "| [10]                 |              9 |\n",
      "+----------------------+----------------+\n",
      "| [1 4]                |              4 |\n",
      "+----------------------+----------------+\n",
      "| [10]                 |              7 |\n",
      "+----------------------+----------------+\n",
      "| [0 5]                |              5 |\n",
      "+----------------------+----------------+\n",
      "| [10]                 |              8 |\n",
      "+----------------------+----------------+\n"
     ]
    }
   ],
   "source": [
    "# NOTE: 10 means no prediction is made\n",
    "from tabulate import tabulate\n",
    "headers = ['Classfier Predicts', 'Actual Value']\n",
    "print(tabulate(combined_errors_labels[0:10], tablefmt='grid', headers=headers))"
   ]
  },
  {
   "cell_type": "code",
   "execution_count": 102,
   "metadata": {},
   "outputs": [],
   "source": [
    "# When the actual value is 0, 1, 2, ..., 9 what are the different ways in which the classifier misclassifies?\n",
    "\n",
    "# Create a list of indexed variables\n",
    "misclassified_0 = []\n",
    "misclassified_1 = []\n",
    "misclassified_2 = []\n",
    "misclassified_3 = []\n",
    "misclassified_4 = []\n",
    "misclassified_5 = []\n",
    "misclassified_6 = []\n",
    "misclassified_7 = []\n",
    "misclassified_8 = []\n",
    "misclassified_9 = []\n",
    "\n",
    "# error_sets = ['0', '1', '2', '3', '4', '5', '6', '7', '8', '9']\n",
    "# Use outcomes from above instead\n",
    "\n",
    "# NOTE: eval is considered dangerous - REFACTOR to eliminate\n",
    "for i in range(len(outcomes)):\n",
    "    for j in range(len(combined_errors_labels)):\n",
    "        if combined_errors_labels[j][1] == i:\n",
    "            eval('misclassified_'+ outcomes[i]).append(combined_errors_labels[j][0])"
   ]
  },
  {
   "cell_type": "code",
   "execution_count": 103,
   "metadata": {},
   "outputs": [
    {
     "name": "stdout",
     "output_type": "stream",
     "text": [
      "Success rate for labeling digit 0 is 0.983673\n",
      "Success rate for labeling digit 1 is 0.983260\n",
      "Success rate for labeling digit 2 is 0.947674\n",
      "Success rate for labeling digit 3 is 0.950495\n",
      "Success rate for labeling digit 4 is 0.946029\n",
      "Success rate for labeling digit 5 is 0.936099\n",
      "Success rate for labeling digit 6 is 0.964509\n",
      "Success rate for labeling digit 7 is 0.937743\n",
      "Success rate for labeling digit 8 is 0.917864\n",
      "Success rate for labeling digit 9 is 0.924678\n"
     ]
    }
   ],
   "source": [
    "# Calculate the labeling success rate by digit\n",
    "for i in range(len(outcomes)):\n",
    "    n_correctly_classified = eval('correct_classified_'+ outcomes[i])[0]\n",
    "    n_misclassified = len(eval('misclassified_'+ outcomes[i]))\n",
    "    success_rate = n_correctly_classified/(n_correctly_classified + n_misclassified)\n",
    "    print(\"Success rate for labeling digit %i is %f\" %(i, success_rate))"
   ]
  },
  {
   "cell_type": "code",
   "execution_count": 105,
   "metadata": {},
   "outputs": [
    {
     "data": {
      "text/plain": [
       "Text(0.5,1,'Actual Digit = 8')"
      ]
     },
     "execution_count": 105,
     "metadata": {},
     "output_type": "execute_result"
    },
    {
     "data": {
      "image/png": "[encoded data removed]",
      "text/plain": [
       "<Figure size 432x288 with 1 Axes>"
      ]
     },
     "metadata": {
      "needs_background": "light"
     },
     "output_type": "display_data"
    }
   ],
   "source": [
    "# Histogram of how a digit is misclassified\n",
    "digit = misclassified_8\n",
    "hist_data = [item for sublist in digit for item in sublist]\n",
    "plt.hist(hist_data)\n",
    "plt.xlabel('Identified As')\n",
    "plt.ylabel('Number of Mistakes')\n",
    "plt.title('Actual Digit = 8')\n",
    "#plt.xticks(range(0,11,1))"
   ]
  },
  {
   "cell_type": "code",
   "execution_count": 106,
   "metadata": {},
   "outputs": [],
   "source": [
    "# Making it easier using Sonya Sawtelle's code\n",
    "misclassified = [misclassified_0, misclassified_1, misclassified_2, \n",
    "                 misclassified_3, misclassified_4, misclassified_5, \n",
    "                 misclassified_6, misclassified_7, misclassified_8, \n",
    "                 misclassified_9]"
   ]
  },
  {
   "cell_type": "code",
   "execution_count": 107,
   "metadata": {},
   "outputs": [
    {
     "data": {
      "text/plain": [
       "10"
      ]
     },
     "execution_count": 107,
     "metadata": {},
     "output_type": "execute_result"
    }
   ],
   "source": [
    "len(misclassified)"
   ]
  },
  {
   "cell_type": "code",
   "execution_count": 108,
   "metadata": {},
   "outputs": [
    {
     "data": {
      "image/png": "[encoded data removed]",
      "text/plain": [
       "<Figure size 864x864 with 10 Axes>"
      ]
     },
     "metadata": {
      "needs_background": "light"
     },
     "output_type": "display_data"
    }
   ],
   "source": [
    "# Code from Sonya Sawtelle\n",
    "fig, axs = plt.subplots(5, 2, sharex=False, sharey=True, figsize=(12,12))\n",
    "fig.suptitle(\"Misclassifications For Each Digit\", fontsize=14)\n",
    "axs = axs.flatten()\n",
    "\n",
    "for i in range(len(misclassified)):\n",
    "    ax = axs[i] # not sure what this does but it's required\n",
    "    digit = misclassified[i]\n",
    "    hist_data = [item for sublist in digit for item in sublist]\n",
    "    ax.hist(hist_data, label=(\"digit %i\" %i), bins=np.arange(1, 11, 1)+0.5)  # Shift the bins to get labels aligned\n",
    "    ax.set_xlim([0, 11])\n",
    "    #ax.xticks(range(0,11))\n",
    "    ax.legend(loc=\"upper left\")\n",
    "    ax.yaxis.set_visible(True)"
   ]
  },
  {
   "cell_type": "markdown",
   "metadata": {},
   "source": [
    "Note: When you see a digit misidentified as itself, what that means is that the classifier was unsure and made more than one guess, including a guess that it was the digit itself. Because the classifier was not sure, we count this as a misclassification.\n",
    "\n",
    "The digits 0 and 1 are the easiest to recognize while 5 and 8 seem to be confused with a wide range of other digits. 9 is also hard to discern correctly. "
   ]
  },
  {
   "cell_type": "markdown",
   "metadata": {},
   "source": [
    "## Getting Under the Hood"
   ]
  },
  {
   "cell_type": "code",
   "execution_count": 109,
   "metadata": {},
   "outputs": [
    {
     "data": {
      "text/plain": [
       "[0.98115, 0.9497]"
      ]
     },
     "execution_count": 109,
     "metadata": {},
     "output_type": "execute_result"
    }
   ],
   "source": [
    "[clf.score(X_train, y_train), clf.score(X_test, y_test)]"
   ]
  },
  {
   "cell_type": "code",
   "execution_count": 110,
   "metadata": {},
   "outputs": [
    {
     "data": {
      "text/plain": [
       "0.07997877095908608"
      ]
     },
     "execution_count": 110,
     "metadata": {},
     "output_type": "execute_result"
    }
   ],
   "source": [
    "clf.loss_"
   ]
  },
  {
   "cell_type": "markdown",
   "metadata": {},
   "source": [
    "### What does a neuron in a hidden layer \"see\"?"
   ]
  },
  {
   "cell_type": "code",
   "execution_count": 114,
   "metadata": {},
   "outputs": [
    {
     "data": {
      "text/plain": [
       "(25, 25)"
      ]
     },
     "execution_count": 114,
     "metadata": {},
     "output_type": "execute_result"
    }
   ],
   "source": [
    "clf.coefs_[1].shape"
   ]
  },
  {
   "cell_type": "code",
   "execution_count": 122,
   "metadata": {},
   "outputs": [
    {
     "data": {
      "text/plain": [
       "(784,)"
      ]
     },
     "execution_count": 122,
     "metadata": {},
     "output_type": "execute_result"
    }
   ],
   "source": [
    "np.transpose(clf.coefs_[0])[2].shape"
   ]
  },
  {
   "cell_type": "code",
   "execution_count": 121,
   "metadata": {},
   "outputs": [
    {
     "data": {
      "text/plain": [
       "<matplotlib.image.AxesImage at 0x1ff83009c88>"
      ]
     },
     "execution_count": 121,
     "metadata": {},
     "output_type": "execute_result"
    },
    {
     "data": {
      "image/png": "[encoded data removed]",
      "text/plain": [
       "<Figure size 360x360 with 1 Axes>"
      ]
     },
     "metadata": {
      "needs_background": "light"
     },
     "output_type": "display_data"
    }
   ],
   "source": [
    "# Pull the weights of a single given neuron in a given activation layer\n",
    "# In this case [1][2] we're looking at the 3rd neuron in the second hidden layer\n",
    "hidden_2 = np.transpose(clf.coefs_[1])[2]\n",
    "#hidden_2 = np.transpose(clf.coefs_[1])\n",
    "fig, ax = plt.subplots(1, figsize=(5,5))\n",
    "ax.imshow(np.reshape(hidden_2, (5,5)), cmap=plt.get_cmap(\"Greys\"), aspect=\"auto\", interpolation=\"nearest\")\n",
    "#ax.imshow(np.reshape(hidden_2, (25,25)), cmap=plt.get_cmap(\"Greys\"), aspect=\"auto\", interpolation=\"nearest\")"
   ]
  },
  {
   "cell_type": "code",
   "execution_count": 43,
   "metadata": {},
   "outputs": [
    {
     "data": {
      "text/plain": [
       "(25, 25)"
      ]
     },
     "execution_count": 43,
     "metadata": {},
     "output_type": "execute_result"
    }
   ],
   "source": [
    "clf.coefs_[1].shape"
   ]
  },
  {
   "cell_type": "code",
   "execution_count": 44,
   "metadata": {},
   "outputs": [
    {
     "data": {
      "text/plain": [
       "(1, 784)"
      ]
     },
     "execution_count": 44,
     "metadata": {},
     "output_type": "execute_result"
    }
   ],
   "source": [
    "np.matrix(X_test[0]).shape"
   ]
  },
  {
   "cell_type": "code",
   "execution_count": 45,
   "metadata": {},
   "outputs": [],
   "source": [
    "# The first hidden layer's activation values.\n",
    "# Note that the index on X_test can be any value -- it picks an image from the test dataset\n",
    "layer1_act_vals = (np.matrix(X_test[500]) * clf.coefs_[0]).T"
   ]
  },
  {
   "cell_type": "code",
   "execution_count": 80,
   "metadata": {},
   "outputs": [
    {
     "data": {
      "text/plain": [
       "<matplotlib.image.AxesImage at 0x1ff82c27b00>"
      ]
     },
     "execution_count": 80,
     "metadata": {},
     "output_type": "execute_result"
    },
    {
     "data": {
      "image/png": "[encoded data removed]",
      "text/plain": [
       "<Figure size 432x288 with 1 Axes>"
      ]
     },
     "metadata": {
      "needs_background": "light"
     },
     "output_type": "display_data"
    }
   ],
   "source": [
    "plt.imshow(layer1_act_vals.reshape(5,5))"
   ]
  },
  {
   "cell_type": "code",
   "execution_count": 47,
   "metadata": {},
   "outputs": [
    {
     "data": {
      "text/plain": [
       "[array([ 0.61971356,  0.00855615,  0.50846566, -0.0844299 ,  0.01020596,\n",
       "         0.20345118, -0.02562942,  0.25085592,  0.72817209, -0.05026378,\n",
       "         0.19312539,  0.52037298,  0.4780872 ,  0.00394437,  0.41162774,\n",
       "         0.1076314 ,  0.01533577,  0.23675569,  0.15770872, -0.17669428,\n",
       "         0.21269005, -0.11565398,  0.64293718,  0.23088571,  0.23856141]),\n",
       " array([-0.19290822,  0.60624884,  0.23651505, -0.07103444,  0.63761101,\n",
       "         0.40520967, -0.03084528, -0.43544778,  0.00691754,  0.343014  ,\n",
       "         0.29166786,  0.10282921,  0.22330748, -0.04915838, -0.10210819,\n",
       "        -0.0512463 , -0.20381891,  0.04001005, -0.08494866,  0.42337801,\n",
       "        -0.05438424, -0.06795743,  0.48250235,  0.61851574,  0.0452852 ]),\n",
       " array([-0.20252443, -0.06416752, -0.41188718, -0.22399292, -0.44797995,\n",
       "        -0.07729348, -0.17015894, -0.31403034, -0.014917  ,  0.07002858])]"
      ]
     },
     "execution_count": 47,
     "metadata": {},
     "output_type": "execute_result"
    }
   ],
   "source": [
    "clf.intercepts_"
   ]
  },
  {
   "cell_type": "code",
   "execution_count": 123,
   "metadata": {},
   "outputs": [
    {
     "data": {
      "text/plain": [
       "Text(0.5,1,'Weights $\\\\Theta^{(1)}$')"
      ]
     },
     "execution_count": 123,
     "metadata": {},
     "output_type": "execute_result"
    },
    {
     "data": {
      "image/png": "[encoded data removed]",
      "text/plain": [
       "<Figure size 864x432 with 1 Axes>"
      ]
     },
     "metadata": {
      "needs_background": "light"
     },
     "output_type": "display_data"
    }
   ],
   "source": [
    "# How the input layer influences the first hidden layer\n",
    "fig, ax = plt.subplots(1, 1, figsize=(12,6))\n",
    "ax.imshow(np.transpose(clf.coefs_[0]), cmap=plt.get_cmap(\"gray\"), aspect=\"auto\")\n",
    "plt.xlabel(\"Neuron in input layer\")\n",
    "plt.ylabel(\"Neuron in first hidden layer\")\n",
    "plt.title(\"Weights $\\Theta^{(1)}$\")"
   ]
  },
  {
   "cell_type": "code",
   "execution_count": 124,
   "metadata": {},
   "outputs": [
    {
     "data": {
      "text/plain": [
       "Text(0.5,1,'Weights $\\\\Theta^{(2)}$')"
      ]
     },
     "execution_count": 124,
     "metadata": {},
     "output_type": "execute_result"
    },
    {
     "data": {
      "image/png": "[encoded data removed]",
      "text/plain": [
       "<Figure size 864x432 with 1 Axes>"
      ]
     },
     "metadata": {
      "needs_background": "light"
     },
     "output_type": "display_data"
    }
   ],
   "source": [
    "# How the first hidden layer influences the second hidden layer\n",
    "fig, ax = plt.subplots(1, 1, figsize=(12,6))\n",
    "ax.imshow(np.transpose(clf.coefs_[1]), cmap=plt.get_cmap(\"gray\"), aspect=\"auto\")\n",
    "plt.xlabel(\"Neuron in first hidden layer\")\n",
    "plt.ylabel(\"Neuron in second hidden layer\")\n",
    "plt.title(\"Weights $\\Theta^{(2)}$\")"
   ]
  },
  {
   "cell_type": "code",
   "execution_count": 50,
   "metadata": {},
   "outputs": [
    {
     "data": {
      "text/plain": [
       "Text(0.5,1,'Weights $\\\\Theta^{(3)}$')"
      ]
     },
     "execution_count": 50,
     "metadata": {},
     "output_type": "execute_result"
    },
    {
     "data": {
      "image/png": "[encoded data removed]",
      "text/plain": [
       "<Figure size 864x432 with 1 Axes>"
      ]
     },
     "metadata": {
      "needs_background": "light"
     },
     "output_type": "display_data"
    }
   ],
   "source": [
    "# How the second hidden layer influences the output layer\n",
    "fig, ax = plt.subplots(1, 1, figsize=(12,6))\n",
    "ax.imshow(np.transpose(clf.coefs_[2]), cmap=plt.get_cmap(\"gray\"), aspect=\"auto\")\n",
    "plt.xlabel(\"Neuron in second hidden layer\")\n",
    "plt.ylabel(\"Neuron in the output layer\")\n",
    "plt.title(\"Weights $\\Theta^{(3)}$\")"
   ]
  },
  {
   "cell_type": "markdown",
   "metadata": {},
   "source": [
    "## Using a Neural Network on a Different Data Set\n",
    "\n",
    "Let's use the neural network on the non-linear classification problem we tackled in the Non-Linear Logistic Regression notebook. Note that it's a small data set with only 94 samples total."
   ]
  },
  {
   "cell_type": "code",
   "execution_count": 51,
   "metadata": {},
   "outputs": [],
   "source": [
    "# Unpickle the file\n",
    "import pickle\n",
    "pkl_file_path = os.path.join('..', 'DataSets', 'ex2data2.pkl')\n",
    "#X2_train, X2_test, y2_train, y2_test = pickle.load( open( pkl_file_path, \"rb\" ) )\n",
    "X2_train, X2_test, y2_train, y2_test = pickle.load(open(pkl_file_path, 'rb'), encoding='latin1')"
   ]
  },
  {
   "cell_type": "code",
   "execution_count": 52,
   "metadata": {},
   "outputs": [
    {
     "data": {
      "text/plain": [
       "array([[ 0.6273 ,  0.15863],\n",
       "       [ 0.63882, -0.24342],\n",
       "       [ 0.322  ,  0.5826 ]])"
      ]
     },
     "execution_count": 52,
     "metadata": {},
     "output_type": "execute_result"
    }
   ],
   "source": [
    "X2_train[0:3,:]"
   ]
  },
  {
   "cell_type": "code",
   "execution_count": 53,
   "metadata": {},
   "outputs": [
    {
     "data": {
      "text/plain": [
       "array([1, 1, 1], dtype=int64)"
      ]
     },
     "execution_count": 53,
     "metadata": {},
     "output_type": "execute_result"
    }
   ],
   "source": [
    "y2_train[0:3]"
   ]
  },
  {
   "cell_type": "markdown",
   "metadata": {},
   "source": [
    "The data set here is the one where we have two input measurements (suitably normalized) and one output. So it's a binary classifier that we need. We'll set up our neural network to reflect this structure. The nice thing is we can use the *same* hidden layer structure as before to do our work -- the classifier is smart enough to recognize and adjust for the differences in dimension of the inputs and the outputs."
   ]
  },
  {
   "cell_type": "code",
   "execution_count": 135,
   "metadata": {},
   "outputs": [
    {
     "name": "stdout",
     "output_type": "stream",
     "text": [
      "Wall time: 180 ms\n"
     ]
    }
   ],
   "source": [
    "%%time\n",
    "# We need a binary classifier because we have to classify results into 1 of 2 categories -- Accepted or Rejected.\n",
    "\n",
    "# As a reminder, here is the classifier we've been using for the MNIST dataset\n",
    "# **********************\n",
    "#from sklearn.neural_network import MLPClassifier\n",
    "# Hidden layers are specified as follows\n",
    "# (n1, ) means n1 units and 1 hidden layer\n",
    "# (n1, n2) means n1 units in the first hidden layer and n2 units in the second hidden layer\n",
    "# (n1, n2, n3) maeans n1 units in the first hidden layer, n2 units in the second hidden layer,\n",
    "#    and n3 units in the third hidden layer\n",
    "# Experiment with max_iter -- set it to 10, 50, 100, 200 to see how the neural network behaves\n",
    "\n",
    "# Here is our modified neural network classifier for our new dataset\n",
    "# Note that the solver is now lbfgs instead of sdg; everything else is the same\n",
    "clf2 = MLPClassifier(solver='lbfgs', alpha=1e-3, \n",
    "                       hidden_layer_sizes=(25, 25), activation='logistic', random_state=1, verbose=False, max_iter=300)\n",
    "# ***********************\n",
    "\n",
    "# We'll now fit the same classifier to the new dataset\n",
    "clf2.fit(X2_train, y2_train) "
   ]
  },
  {
   "cell_type": "code",
   "execution_count": 126,
   "metadata": {},
   "outputs": [],
   "source": [
    "# How quickly is the classifier learning?\n",
    "# NOTE: There is no loss curve in scikit learn for the lbfgs solver\n",
    "#fig, ax = plt.subplots(figsize=(8,5))\n",
    "#plt.plot(clf2.loss_curve_)"
   ]
  },
  {
   "cell_type": "code",
   "execution_count": 136,
   "metadata": {},
   "outputs": [
    {
     "name": "stdout",
     "output_type": "stream",
     "text": [
      "Training set score: 0.968085\n",
      "Test set score: 0.750000\n"
     ]
    }
   ],
   "source": [
    "# How well does the classifer perform?\n",
    "print(\"Training set score: %f\" % clf2.score(X2_train, y2_train))\n",
    "print(\"Test set score: %f\" % clf2.score(X2_test, y2_test))"
   ]
  },
  {
   "cell_type": "code",
   "execution_count": 137,
   "metadata": {},
   "outputs": [],
   "source": [
    "# Get the predictions for the test set\n",
    "preds = clf2.predict(X2_test)"
   ]
  },
  {
   "cell_type": "code",
   "execution_count": 138,
   "metadata": {},
   "outputs": [],
   "source": [
    "actual_vals = y2_test"
   ]
  },
  {
   "cell_type": "code",
   "execution_count": 139,
   "metadata": {},
   "outputs": [
    {
     "data": {
      "text/plain": [
       "array([[-16.66052198,   3.62956499,   3.42411913,  -6.0225021 ,\n",
       "        -13.28503224,  -0.57945888,  12.39508699, -15.89542472,\n",
       "          8.3948383 ,  -1.69196962,   6.91583275,  11.76128631,\n",
       "         -2.71114508,  16.59481792, -12.53126025,   0.74895673,\n",
       "         -0.45471309,  15.54473437, -14.79512857,   8.10203953,\n",
       "         11.32795859, -16.75201543,   4.17946041,   0.73943117,\n",
       "         16.95683284],\n",
       "       [ -4.57011409,   6.46319106,  -4.33005756,  10.75027705,\n",
       "         -2.52408027,   0.35733715, -14.22539747,  -1.90453487,\n",
       "         -3.69619571,  -4.25436527,   0.36215246,  -2.58535471,\n",
       "        -11.64108149,   9.31042218,  -1.7196672 ,  -6.63102658,\n",
       "         -7.96828901,  -4.33168237,  -6.8119016 ,  -2.73745767,\n",
       "          3.14310217,  15.98143116,  -2.14415081,  19.46590448,\n",
       "          0.62049694]])"
      ]
     },
     "execution_count": 139,
     "metadata": {},
     "output_type": "execute_result"
    }
   ],
   "source": [
    "clf2.coefs_[0]"
   ]
  },
  {
   "cell_type": "code",
   "execution_count": 140,
   "metadata": {},
   "outputs": [
    {
     "data": {
      "text/plain": [
       "array([  8.56601779, -15.69774963,   2.9984149 ,   6.52927812,\n",
       "         1.69308179,  -5.06628971,  -1.57726571,   9.16124325,\n",
       "        -4.4559206 ,   2.04609898,   4.86555151, -27.33419351,\n",
       "        15.91201182,   4.14909549,  17.07660369,   3.96820232,\n",
       "        18.09469649,  11.04744214,   6.39031899,   3.36626051,\n",
       "        -6.07423749,   8.14793383,  -0.17592858,   0.35735245,\n",
       "       -20.07432706])"
      ]
     },
     "execution_count": 140,
     "metadata": {},
     "output_type": "execute_result"
    }
   ],
   "source": [
    "clf2.intercepts_[0]"
   ]
  },
  {
   "cell_type": "markdown",
   "metadata": {},
   "source": [
    "### Drawing the Classifier's Boundary"
   ]
  },
  {
   "cell_type": "markdown",
   "metadata": {
    "collapsed": true
   },
   "source": [
    "We've seen that the classifer does OK -- about 80% in accuracy. Let's visualize the classifier's boundary."
   ]
  },
  {
   "cell_type": "code",
   "execution_count": 141,
   "metadata": {},
   "outputs": [],
   "source": [
    "# Contour plot of the decision boundary\n",
    "# Make grid values\n",
    "xx1, xx2 = np.mgrid[-1:1.5:.02, -1:1.5:.02]"
   ]
  },
  {
   "cell_type": "code",
   "execution_count": 142,
   "metadata": {},
   "outputs": [
    {
     "data": {
      "text/plain": [
       "(15625, 2)"
      ]
     },
     "execution_count": 142,
     "metadata": {},
     "output_type": "execute_result"
    }
   ],
   "source": [
    "# Create the grid\n",
    "grid = np.c_[xx1.ravel(), xx2.ravel()]\n",
    "grid.shape"
   ]
  },
  {
   "cell_type": "code",
   "execution_count": 143,
   "metadata": {},
   "outputs": [
    {
     "data": {
      "text/plain": [
       "array([[-1.  , -1.  ],\n",
       "       [-1.  , -0.98],\n",
       "       [-1.  , -0.96],\n",
       "       [-1.  , -0.94]])"
      ]
     },
     "execution_count": 143,
     "metadata": {},
     "output_type": "execute_result"
    }
   ],
   "source": [
    "grid[0:4,:]"
   ]
  },
  {
   "cell_type": "code",
   "execution_count": 144,
   "metadata": {},
   "outputs": [],
   "source": [
    "# Get the prediction for each grid value\n",
    "preds = clf2.predict(grid)"
   ]
  },
  {
   "cell_type": "code",
   "execution_count": 145,
   "metadata": {},
   "outputs": [
    {
     "data": {
      "text/plain": [
       "(4236, 11389)"
      ]
     },
     "execution_count": 145,
     "metadata": {},
     "output_type": "execute_result"
    }
   ],
   "source": [
    "# number of ones predicted\n",
    "pred_ones = (preds != np.zeros(15625)).sum()\n",
    "\n",
    "# number of zeroes predicted\n",
    "pred_zeros = (preds == np.zeros(15625)).sum()\n",
    "\n",
    "pred_ones, pred_zeros"
   ]
  },
  {
   "cell_type": "code",
   "execution_count": 146,
   "metadata": {},
   "outputs": [],
   "source": [
    "# For the test dataset, segment the Accepted from the Rejected\n",
    "accepted = []\n",
    "rejected = []\n",
    "for i in range(len(X2_test)):\n",
    "    if y2_test[i] == 1:\n",
    "        accepted.append(X2_test[i])\n",
    "    else:\n",
    "        rejected.append(X2_test[i])"
   ]
  },
  {
   "cell_type": "code",
   "execution_count": 70,
   "metadata": {},
   "outputs": [
    {
     "data": {
      "text/plain": [
       "array([-0.21947 , -0.51325 ,  0.57546 ,  0.46601 ,  0.38537 , -0.17339 ,\n",
       "        0.52938 ,  0.64459 , -0.16187 ,  0.051267,  0.2932  , -0.20795 ])"
      ]
     },
     "execution_count": 70,
     "metadata": {},
     "output_type": "execute_result"
    }
   ],
   "source": [
    "np.array(accepted)[:,0]"
   ]
  },
  {
   "cell_type": "code",
   "execution_count": 147,
   "metadata": {},
   "outputs": [
    {
     "data": {
      "text/plain": [
       "<matplotlib.contour.QuadContourSet at 0x1ff80e0cba8>"
      ]
     },
     "execution_count": 147,
     "metadata": {},
     "output_type": "execute_result"
    },
    {
     "data": {
      "image/png": "[encoded data removed]",
      "text/plain": [
       "<Figure size 576x360 with 1 Axes>"
      ]
     },
     "metadata": {
      "needs_background": "light"
     },
     "output_type": "display_data"
    }
   ],
   "source": [
    "#plt.contour(xx1,xx2,np.array(probs_to_binary).reshape(xx1.shape))\n",
    "fig, ax = plt.subplots(figsize=(8,5))\n",
    "ax.scatter(np.array(accepted)[:,0], np.array(accepted)[:,1], s=30, c='b', marker='s', label='Accepted')\n",
    "ax.scatter(np.array(rejected)[:,0], np.array(rejected)[:,1], s=30, c='r', marker='x', label='Rejected')\n",
    "ax.legend()\n",
    "ax.set_xlabel('Test 1 Score')\n",
    "ax.set_ylabel('Test 2 Score')\n",
    "ax.set_title('Test Dataset')\n",
    "plt.contour(xx1,xx2,preds.reshape(xx1.shape), colors='y', linewidths=0.5)"
   ]
  },
  {
   "cell_type": "markdown",
   "metadata": {},
   "source": [
    "We see that the neural network has produced a rather complex boundary even without us manufacturing any polynomials. Indeed, neural networks are great when you have a complicated non-linear boundary to draw in order to classify your dataset. But you need a lot more data for the network to become good at finding the right boundary -- the boundary that will give the best classification results."
   ]
  },
  {
   "cell_type": "code",
   "execution_count": null,
   "metadata": {},
   "outputs": [],
   "source": []
  }
 ],
 "metadata": {
  "anaconda-cloud": {},
  "kernelspec": {
   "display_name": "Python 3",
   "language": "python",
   "name": "python3"
  },
  "language_info": {
   "codemirror_mode": {
    "name": "ipython",
    "version": 3
   },
   "file_extension": ".py",
   "mimetype": "text/x-python",
   "name": "python",
   "nbconvert_exporter": "python",
   "pygments_lexer": "ipython3",
   "version": "3.7.0"
  }
 },
 "nbformat": 4,
 "nbformat_minor": 1
}
