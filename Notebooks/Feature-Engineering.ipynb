{
 "cells": [
  {
   "cell_type": "code",
   "execution_count": 1,
   "metadata": {
    "collapsed": true,
    "slideshow": {
     "slide_type": "skip"
    }
   },
   "outputs": [],
   "source": [
    "import numpy as np\n",
    "import matplotlib.pyplot as plt\n",
    "%matplotlib inline"
   ]
  },
  {
   "cell_type": "markdown",
   "metadata": {
    "slideshow": {
     "slide_type": "slide"
    }
   },
   "source": [
    "# Feature Engineering\n",
    "## How to select featues that make a difference"
   ]
  },
  {
   "cell_type": "markdown",
   "metadata": {
    "slideshow": {
     "slide_type": "slide"
    }
   },
   "source": [
    "\"At the end of the day, some machine learning projects succeed and some fail. What makes the difference? Easily, the most important factor is the features used. If you have many independent features that each correlate well with the class, learning is easy. On the other hand, if the class is a very complex function of the features, you may not be able to learn it. Often, the raw data is not in a form that is amenable to learning, but you can construct features from it that are. This is typically where most of the effort in a machine learning project goes. It is often also one of the most interesting parts, where intuition and creativity are as important as the technical stuff.\"\n",
    "\n",
    "-- Pedro Domingos, *A Few Useful Things to Know about Machine Learning*"
   ]
  },
  {
   "cell_type": "markdown",
   "metadata": {
    "slideshow": {
     "slide_type": "slide"
    }
   },
   "source": [
    "## What is feature engineering?\n",
    "\n",
    "- Feature Creation. Create better features by combining existing features (including taking the square, cube, etc. of existing features).\n",
    "- Feature Selection. Pick features that make a difference and drop the rest."
   ]
  },
  {
   "cell_type": "markdown",
   "metadata": {
    "slideshow": {
     "slide_type": "slide"
    }
   },
   "source": [
    "## Why select features?\n",
    "\n",
    "- Noise reduction\n",
    "- The *curse of dimensionality*\n",
    " - too many features\n",
    " - too few training examples"
   ]
  },
  {
   "cell_type": "markdown",
   "metadata": {
    "slideshow": {
     "slide_type": "slide"
    }
   },
   "source": [
    "## The curse of dimensionality\n",
    "\n",
    "\"High dimensional datasets are at the risk of being very sparse: most training instances are likely to be far away from each other. Of course, this also means that a new instance will likely be far away from any training instance, making predictions much less reliable than in lower dimensions, since they will be based on much larger extrapolations. In short, the more dimensions the training set has [i.e., the more attributes], the greater the risk of overfitting it.\"\n",
    "\n",
    "> -- Aurélien Géron, *Hands-On Machine Learning with Scikit-Learn & TensorFlow*, p.207"
   ]
  },
  {
   "cell_type": "code",
   "execution_count": 2,
   "metadata": {
    "collapsed": true,
    "slideshow": {
     "slide_type": "skip"
    }
   },
   "outputs": [],
   "source": [
    "# Range of distances between 2 randomly chosen points in a unit hypercube\n",
    "import numpy as np\n",
    "def dist(n_points, n_dims):\n",
    "    # Generate a random set of n_points to fill the hypercube\n",
    "    rows1 = np.random.rand(n_points, n_dims)\n",
    "    \n",
    "    # Generate another set of random n_points to fill the hypercube\n",
    "    rows2 = np.random.rand(n_points, n_dims)\n",
    "    \n",
    "    distances = [np.linalg.norm(rows1[i] - rows2[i]) for i in range(len(rows1))]\n",
    "    \n",
    "    return [np.average(distances), (np.max(distances) - np.min(distances))]"
   ]
  },
  {
   "cell_type": "code",
   "execution_count": 3,
   "metadata": {
    "slideshow": {
     "slide_type": "skip"
    }
   },
   "outputs": [
    {
     "name": "stdout",
     "output_type": "stream",
     "text": [
      "CPU times: user 7.11 s, sys: 2.29 s, total: 9.41 s\n",
      "Wall time: 10.7 s\n"
     ]
    },
    {
     "data": {
      "text/plain": [
       "[[1.2688118553925185, 1.7576141510724073],\n",
       " [2.8789817976170839, 1.8010697245737544],\n",
       " [4.072320649278522, 1.9167892614383213],\n",
       " [9.1236607135267924, 1.8082499725972863],\n",
       " [12.906913948103689, 1.7100396296238731],\n",
       " [28.87078973678247, 1.8775724318173417],\n",
       " [40.822733111603419, 1.7786064966377992]]"
      ]
     },
     "execution_count": 3,
     "metadata": {},
     "output_type": "execute_result"
    }
   ],
   "source": [
    "# Try large numbers with caution\n",
    "dims = [10, 50, 100, 500, 1000, 5000, 10000]\n",
    "%time d = [dist(10000,x) for x in dims]\n",
    "d"
   ]
  },
  {
   "cell_type": "code",
   "execution_count": 4,
   "metadata": {
    "collapsed": true,
    "slideshow": {
     "slide_type": "skip"
    }
   },
   "outputs": [],
   "source": [
    "x_vals = [d[i][0] for i in range(len(d))]\n",
    "y_vals = [d[i][1] for i in range(len(d))]"
   ]
  },
  {
   "cell_type": "code",
   "execution_count": 5,
   "metadata": {
    "slideshow": {
     "slide_type": "skip"
    }
   },
   "outputs": [
    {
     "data": {
      "text/plain": [
       "[1.2688118553925185,\n",
       " 2.8789817976170839,\n",
       " 4.072320649278522,\n",
       " 9.1236607135267924,\n",
       " 12.906913948103689,\n",
       " 28.87078973678247,\n",
       " 40.822733111603419]"
      ]
     },
     "execution_count": 5,
     "metadata": {},
     "output_type": "execute_result"
    }
   ],
   "source": [
    "x_vals"
   ]
  },
  {
   "cell_type": "code",
   "execution_count": 6,
   "metadata": {
    "slideshow": {
     "slide_type": "skip"
    }
   },
   "outputs": [
    {
     "data": {
      "text/plain": [
       "[1.7576141510724073,\n",
       " 1.8010697245737544,\n",
       " 1.9167892614383213,\n",
       " 1.8082499725972863,\n",
       " 1.7100396296238731,\n",
       " 1.8775724318173417,\n",
       " 1.7786064966377992]"
      ]
     },
     "execution_count": 6,
     "metadata": {},
     "output_type": "execute_result"
    }
   ],
   "source": [
    "y_vals"
   ]
  },
  {
   "cell_type": "code",
   "execution_count": 7,
   "metadata": {
    "slideshow": {
     "slide_type": "slide"
    }
   },
   "outputs": [
    {
     "data": {
      "image/png": "[encoded data removed]",
      "text/plain": [
       "<matplotlib.figure.Figure at 0x10f9ea358>"
      ]
     },
     "metadata": {},
     "output_type": "display_data"
    }
   ],
   "source": [
    "# Average distance of any two randomly chosen points as a function of the number of features\n",
    "fig = plt.figure(1, figsize=(12, 8))\n",
    "\n",
    "# Create an axes instance\n",
    "ax = fig.add_subplot(111)\n",
    "plt.title('Average Distance Between Any 2 Randomly Chosen Points in an N-Dimensional Hypercube')\n",
    "plt.xlabel('Number of Features')\n",
    "plt.ylabel('Average Distance')\n",
    "\n",
    "# Create the plot\n",
    "plt.plot(dims, x_vals, marker='o');"
   ]
  },
  {
   "cell_type": "code",
   "execution_count": 8,
   "metadata": {
    "slideshow": {
     "slide_type": "skip"
    }
   },
   "outputs": [
    {
     "data": {
      "image/png": "[encoded data removed]",
      "text/plain": [
       "<matplotlib.figure.Figure at 0x10f95e8d0>"
      ]
     },
     "metadata": {},
     "output_type": "display_data"
    }
   ],
   "source": [
    "# Average distance of any two randomly chosen points as a function of the number of features\n",
    "fig = plt.figure(1, figsize=(9, 6))\n",
    "\n",
    "# Create an axes instance\n",
    "ax = fig.add_subplot(111)\n",
    "plt.title('Max - Min Distance Between Any 2 Randomly Chosen Points in an N-Dimensional Hypercube')\n",
    "plt.xlabel('Number of Features')\n",
    "plt.ylabel('Max - Min Distance')\n",
    "\n",
    "# Create the plot\n",
    "plt.plot(dims, y_vals, marker='o', color='r');"
   ]
  },
  {
   "cell_type": "markdown",
   "metadata": {
    "slideshow": {
     "slide_type": "slide"
    }
   },
   "source": [
    "## The curse of dimensionality -- another angle\n",
    "\n",
    "\"Generalizing correctly becomes exponentially harder as the dimensionality (number of features) of the examples grows, because a fixed-size training set covers a dwindling fraction of the input space. Even with a moderate dimension of 100 and a huge training set of a trillion examples, the latter covers only a fraction of about $10^{-18}$ of the input space. This is what makes machine learning both necessary and hard.\"\n",
    "\n",
    "> -- Pedros Domingos, *A Few Useful Things to Know about Machine Learning*"
   ]
  },
  {
   "cell_type": "markdown",
   "metadata": {
    "slideshow": {
     "slide_type": "slide"
    }
   },
   "source": [
    "## Ways to Select Features (Reduce Dimensionality)\n",
    "\n",
    "- Projection (e.g., Principal Component Analysis)\n",
    "- Manifold Learning\n",
    "- Sequential Backward Selection\n",
    "- Random Forest Ranking"
   ]
  },
  {
   "cell_type": "markdown",
   "metadata": {
    "slideshow": {
     "slide_type": "slide"
    }
   },
   "source": [
    "## Principal Component Analysis (PCA)\n",
    "\n",
    "The idea: Find the axis (or more generally, the hyperplane) that captures the highest amount of variance. Then find the axis that captures the second highest amount of variance, and so on. These axes are called *principal components*.\n",
    "\n",
    "There are as many principal components as there are features in the dataset."
   ]
  },
  {
   "cell_type": "markdown",
   "metadata": {
    "slideshow": {
     "slide_type": "slide"
    }
   },
   "source": [
    "<img src='../Images/PCA-2d.jpeg' width='600' />\n",
    "\n",
    "(Image from Aurélien Géron, *Hands-On Machine Learning with Scikit-Learn & TensorFlow*, p.212)"
   ]
  },
  {
   "cell_type": "markdown",
   "metadata": {
    "slideshow": {
     "slide_type": "slide"
    }
   },
   "source": [
    "In a space of $n$ dimensions, PCA will find $n$ principal components. This new set of principal components is another set of axes for the dataset. They are axes chosen to maximize the variance of data when it is projected onto that principal component axis.\n",
    "\n",
    "Variance is technically the statistical term -- but for simplicity, we can think of it simply as the difference betweeen the maximum and minimum value of the data points projected onto a principal component axis.\n",
    "\n",
    "Let's see how it's visualized in http://setosa.io/ev/principal-component-analysis/"
   ]
  },
  {
   "cell_type": "markdown",
   "metadata": {
    "slideshow": {
     "slide_type": "slide"
    }
   },
   "source": [
    "Caution: It's not always the case that reducing dimensions simplifies a problem.\n",
    "\n",
    "<img src='../Images/manifold-hypothesis.jpeg' width='600' />\n",
    "\n",
    "(Image from Aurélien Géron, *Hands-On Machine Learning with Scikit-Learn & TensorFlow*, p.211)\n",
    "\n",
    "(For a simple introduction to the *manifold hypothesis*, see https://nbviewer.jupyter.org/github/jsub10/In-Progress/blob/master/How-is-Learning-Possible%3F.ipynb)"
   ]
  },
  {
   "cell_type": "markdown",
   "metadata": {
    "slideshow": {
     "slide_type": "slide"
    }
   },
   "source": [
    "## Sequential Backward Selection\n",
    "\n",
    "An algorithm for sequentially removing an attribute that makes the least difference to a model's prediction performance.\n",
    "\n",
    "<img src='../Images/sequential-backward-selection.png' width='400' />\n",
    "\n",
    "(You can do Sequential *Forward* Selection too)"
   ]
  },
  {
   "cell_type": "markdown",
   "metadata": {
    "slideshow": {
     "slide_type": "slide"
    }
   },
   "source": [
    "## Random Forest Ranking\n",
    "\n",
    "Random forests take a number of models that are the same (decision tree classifiers) but train each decision tree with a random set of attributes from the training data.\n",
    "\n",
    "<img src='../Images/random-forests.png' width='400' />"
   ]
  },
  {
   "cell_type": "markdown",
   "metadata": {
    "slideshow": {
     "slide_type": "slide"
    }
   },
   "source": [
    "Let's see how PCA and random forests look in Orange..."
   ]
  },
  {
   "cell_type": "code",
   "execution_count": null,
   "metadata": {
    "collapsed": true,
    "slideshow": {
     "slide_type": "skip"
    }
   },
   "outputs": [],
   "source": []
  }
 ],
 "metadata": {
  "celltoolbar": "Slideshow",
  "kernelspec": {
   "display_name": "Python 3",
   "language": "python",
   "name": "python3"
  },
  "language_info": {
   "codemirror_mode": {
    "name": "ipython",
    "version": 3
   },
   "file_extension": ".py",
   "mimetype": "text/x-python",
   "name": "python",
   "nbconvert_exporter": "python",
   "pygments_lexer": "ipython3",
   "version": "3.6.2"
  }
 },
 "nbformat": 4,
 "nbformat_minor": 2
}
