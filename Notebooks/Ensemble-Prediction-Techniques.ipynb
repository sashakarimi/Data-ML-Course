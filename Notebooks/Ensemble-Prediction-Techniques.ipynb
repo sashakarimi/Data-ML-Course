{
 "cells": [
  {
   "cell_type": "markdown",
   "metadata": {
    "slideshow": {
     "slide_type": "slide"
    }
   },
   "source": [
    "# Ensemble Prediction Techniques"
   ]
  },
  {
   "cell_type": "markdown",
   "metadata": {
    "slideshow": {
     "slide_type": "slide"
    }
   },
   "source": [
    "<img src='../Images/wisdom-of-crowds.jpg' width='300' />"
   ]
  },
  {
   "cell_type": "markdown",
   "metadata": {
    "slideshow": {
     "slide_type": "slide"
    }
   },
   "source": [
    "<img src='../Images/superforecasting.jpg' width='300' />"
   ]
  },
  {
   "cell_type": "markdown",
   "metadata": {
    "slideshow": {
     "slide_type": "slide"
    }
   },
   "source": [
    "<img src='../Images/kaggle-home.png' width='500' />"
   ]
  },
  {
   "cell_type": "code",
   "execution_count": 1,
   "metadata": {
    "collapsed": true,
    "slideshow": {
     "slide_type": "skip"
    }
   },
   "outputs": [],
   "source": [
    "import numpy as np\n",
    "from scipy import stats\n",
    "import matplotlib.pyplot as plt\n",
    "%matplotlib inline"
   ]
  },
  {
   "cell_type": "code",
   "execution_count": 2,
   "metadata": {
    "collapsed": true,
    "slideshow": {
     "slide_type": "skip"
    }
   },
   "outputs": [],
   "source": [
    "def clf_preds(accuracy, truth_vector):\n",
    "    # accuracy of classifier\n",
    "    # truth_vector is the actual value of the target\n",
    "    preds = []\n",
    "    for i in range(len(truth)):\n",
    "        pred = np.random.choice([truth[i], 1-truth[i]], p=[accuracy, 1-accuracy])\n",
    "        preds.append(pred)\n",
    "\n",
    "    return preds"
   ]
  },
  {
   "cell_type": "code",
   "execution_count": 3,
   "metadata": {
    "collapsed": true,
    "slideshow": {
     "slide_type": "skip"
    }
   },
   "outputs": [],
   "source": [
    "# generate num_clfs number of predictors -- an ensemble of predictors\n",
    "def generate_clfs(num_clfs, accuracy, truth_vector):\n",
    "    clfs = [clf_preds(accuracy, truth_vector) for i in range(num_clfs)]\n",
    "    return clfs"
   ]
  },
  {
   "cell_type": "code",
   "execution_count": 4,
   "metadata": {
    "collapsed": true,
    "slideshow": {
     "slide_type": "skip"
    }
   },
   "outputs": [],
   "source": [
    "# majority vote result for a prediction from each member of the ensemble\n",
    "def majority_vote(pred_vector):\n",
    "    vote_result = stats.mode(pred_vector)[0][0]\n",
    "    return vote_result"
   ]
  },
  {
   "cell_type": "code",
   "execution_count": 5,
   "metadata": {
    "collapsed": true,
    "slideshow": {
     "slide_type": "skip"
    }
   },
   "outputs": [],
   "source": [
    "def ensemble_accuracy(num_clfs, clf_accuracy, truth_vector):\n",
    "    # Generate the ensemble of classifiers and their predictions\n",
    "    clfs = generate_clfs(num_clfs, clf_accuracy, truth_vector)\n",
    "    \n",
    "    # Each clf in clfs contains a list of predictions associated with a particular classifier\n",
    "    # Transpose those values to get the first set of predictions\n",
    "    # This set of predictions can then be voted on to find the majority result\n",
    "    preds = np.transpose(clfs)\n",
    "    majority_results = [majority_vote(pred) for pred in preds]\n",
    "    \n",
    "    # Compare the majority_results with the truth_vector\n",
    "    correct = 0\n",
    "    for i in range(len(truth_vector)):\n",
    "        if majority_results[i] == truth_vector[i]:\n",
    "            correct += 1\n",
    "        \n",
    "    ensemble_accuracy = correct/len(truth_vector)\n",
    "    \n",
    "    return ensemble_accuracy"
   ]
  },
  {
   "cell_type": "code",
   "execution_count": 6,
   "metadata": {
    "collapsed": true,
    "slideshow": {
     "slide_type": "skip"
    }
   },
   "outputs": [],
   "source": [
    "# The truth (training data) is as follows\n",
    "truth = np.random.choice([0,1], 1000, p=[0.7, 0.3])\n",
    "#truth"
   ]
  },
  {
   "cell_type": "code",
   "execution_count": 7,
   "metadata": {
    "slideshow": {
     "slide_type": "skip"
    }
   },
   "outputs": [
    {
     "data": {
      "text/plain": [
       "array([[1, 1, 1],\n",
       "       [1, 1, 0],\n",
       "       [1, 0, 1],\n",
       "       ..., \n",
       "       [1, 1, 1],\n",
       "       [1, 1, 1],\n",
       "       [1, 1, 0]])"
      ]
     },
     "execution_count": 7,
     "metadata": {},
     "output_type": "execute_result"
    }
   ],
   "source": [
    "clfs = [clf_preds(0.55, truth) for i in range(3)]\n",
    "np.transpose(clfs)"
   ]
  },
  {
   "cell_type": "code",
   "execution_count": 8,
   "metadata": {
    "slideshow": {
     "slide_type": "skip"
    }
   },
   "outputs": [
    {
     "name": "stdout",
     "output_type": "stream",
     "text": [
      "CPU times: user 2.71 s, sys: 33.4 ms, total: 2.75 s\n",
      "Wall time: 2.78 s\n"
     ]
    },
    {
     "data": {
      "text/plain": [
       "0.625"
      ]
     },
     "execution_count": 8,
     "metadata": {},
     "output_type": "execute_result"
    }
   ],
   "source": [
    "%time ensemble_accuracy(100, 0.51, truth)"
   ]
  },
  {
   "cell_type": "markdown",
   "metadata": {
    "slideshow": {
     "slide_type": "slide"
    }
   },
   "source": [
    "## The Power of Ensembles\n",
    "\n",
    "<img src='../Images/power-of-ensemble-predictors.png' width='400' />"
   ]
  },
  {
   "cell_type": "code",
   "execution_count": 15,
   "metadata": {
    "slideshow": {
     "slide_type": "skip"
    }
   },
   "outputs": [
    {
     "name": "stdout",
     "output_type": "stream",
     "text": [
      "CPU times: user 2min 21s, sys: 779 ms, total: 2min 22s\n",
      "Wall time: 2min 24s\n"
     ]
    }
   ],
   "source": [
    "# 10 classifiers, data has 1000 rows, each classifier's accuracy varies from\n",
    "# 0 to 1\n",
    "clf_accs = np.arange(0,1.02,0.02)\n",
    "%time ensemble_accs = [ensemble_accuracy(100, x, truth) for x in clf_accs]\n",
    "#ensemble_accs"
   ]
  },
  {
   "cell_type": "markdown",
   "metadata": {
    "slideshow": {
     "slide_type": "slide"
    }
   },
   "source": [
    "The accuracy of a majority-vote system from an ensemble of weak classifiers is a big improvement on the accuracy of any individual classifier in the ensemble.\n",
    "\n",
    "We can see how an ensemble of classifiers does under the majority-vote scheme as the predictive accuracy of the individual classifiers in the ensemble vary from 0 (always wrong) to 1 (always right)."
   ]
  },
  {
   "cell_type": "code",
   "execution_count": 17,
   "metadata": {
    "slideshow": {
     "slide_type": "slide"
    }
   },
   "outputs": [
    {
     "data": {
      "image/png": "[encoded data removed]",
      "text/plain": [
       "<matplotlib.figure.Figure at 0x1104897b8>"
      ]
     },
     "metadata": {},
     "output_type": "display_data"
    }
   ],
   "source": [
    "fig = plt.figure(1, figsize=(12, 8))\n",
    "\n",
    "# Create an axes instance\n",
    "ax = fig.add_subplot(111)\n",
    "plt.title('Ensemble Prediction Accuracy (100 Individual Models/Classifiers)')\n",
    "plt.xlabel('Individual Classifier Prediction Accuracy')\n",
    "plt.ylabel('Ensemble Prediction Accuracy')\n",
    "ax.set_xticks(np.arange(0, 1.1, 0.05))\n",
    "ax.set_yticks(np.arange(0, 1.1, 0.05))\n",
    "plt.grid()\n",
    "\n",
    "# Create the plot\n",
    "plt.plot(clf_accs, ensemble_accs, marker='o');"
   ]
  },
  {
   "cell_type": "markdown",
   "metadata": {
    "slideshow": {
     "slide_type": "slide"
    }
   },
   "source": [
    "When individual classifier accuracy is lower than 0.5 -- i.e., when the classifiers are worse than randomly predicting a result, the ensemble accuracy is *a lot lower* than the accuracy of the individual classifiers.\n",
    "\n",
    "However, and this is the interesting and surprising thing: When individual classifier accuracy is even just a bit above the random guessing accuracy of 0.5, the ensemble's accuracy is *a lot higher* than the accuracy of any individual classifier in the ensemble.\n",
    "\n",
    "We've asked 100 people the same question and they've pretty much guessed at random. But pull their results together and take the majority value of their predictions and we've got a pretty accurate prediction scheme!\n",
    "\n",
    "How is this possible? What's going on?"
   ]
  },
  {
   "cell_type": "markdown",
   "metadata": {
    "slideshow": {
     "slide_type": "slide"
    }
   },
   "source": [
    "The key question for the majority-vote scheme is:\n",
    "\n",
    "> For a given number of classifiers in the ensemble, what is the probability that the majority of outcomes is the same as the right/correct outcome?\n",
    "\n",
    "Suppose we have 5 slightly biased coins (i.e., classifiers) -- each one having a 0.51 probability of heads. And suppose heads is the right outcome -- the correct prediction. So what we've done is picked coins that are slightly better than random at predicting the right result. Only *slightly* better though.\n",
    "\n",
    "Let's toss these 5 coins and here's what we get...or better yet, let's toss 5, 10, 15, ..., 500 of these coins and see how the majority value of the prediction changes as the number of coins increases."
   ]
  },
  {
   "cell_type": "markdown",
   "metadata": {
    "slideshow": {
     "slide_type": "slide"
    }
   },
   "source": [
    "<img src=\"../Images/key-question-for-ensembles.png\" width=\"600\" />"
   ]
  },
  {
   "cell_type": "code",
   "execution_count": 11,
   "metadata": {
    "slideshow": {
     "slide_type": "skip"
    }
   },
   "outputs": [
    {
     "name": "stdout",
     "output_type": "stream",
     "text": [
      "Majority Value: heads\n"
     ]
    },
    {
     "name": "stderr",
     "output_type": "stream",
     "text": [
      "/anaconda/lib/python3.6/site-packages/scipy/stats/stats.py:253: RuntimeWarning: The input array could not be properly checked for nan values. nan values will be ignored.\n",
      "  \"values. nan values will be ignored.\", RuntimeWarning)\n"
     ]
    }
   ],
   "source": [
    "# Toss 5 coins, each with 0.51 probability each of heads\n",
    "outcomes = np.random.choice(['heads', 'tails'], 5, p=[0.51, 1-0.51])\n",
    "majority_outcome = majority_vote(outcomes)\n",
    "#print(\"Tosses: {}\".format(outcomes))\n",
    "print(\"Majority Value: {}\".format(majority_outcome))"
   ]
  },
  {
   "cell_type": "code",
   "execution_count": 12,
   "metadata": {
    "collapsed": true,
    "slideshow": {
     "slide_type": "slide"
    }
   },
   "outputs": [],
   "source": [
    "# Toss n coins and see if the majority of outcome is heads (1) or tails (0)\n",
    "clf_accuracy = 0.51\n",
    "num_clfs = 500\n",
    "outcomes = np.random.choice([1,0], num_clfs, p=[clf_accuracy, 1-clf_accuracy])\n",
    "# Check majority value as number of classifiers increases\n",
    "majority_vals = []\n",
    "outcome_ratios = []\n",
    "for i in range(1, num_clfs+1):\n",
    "    #print(outcomes[:i])\n",
    "    outcome_subset = outcomes[:i]\n",
    "    majority = majority_vote(outcome_subset)\n",
    "    majority_vals.append(majority)\n",
    "    # number of 1s (i.e., heads)\n",
    "    num_heads = list(outcome_subset).count(1)\n",
    "    outcome_ratio = num_heads/len(outcome_subset)\n",
    "    outcome_ratios.append(outcome_ratio)\n",
    "    \n",
    "#outcomes, majority_vals, outcome_ratios"
   ]
  },
  {
   "cell_type": "markdown",
   "metadata": {
    "slideshow": {
     "slide_type": "skip"
    }
   },
   "source": [
    "The majority value jumps around even when the number of coins tossed is high.\n",
    "\n",
    "However, the majority value jumps around less as the number of coins tossed grows larger and larger.\n",
    "\n",
    "Let's get a better view of this..."
   ]
  },
  {
   "cell_type": "code",
   "execution_count": 13,
   "metadata": {
    "slideshow": {
     "slide_type": "skip"
    }
   },
   "outputs": [
    {
     "data": {
      "image/png": "[encoded data removed]",
      "text/plain": [
       "<matplotlib.figure.Figure at 0x10d9d70b8>"
      ]
     },
     "metadata": {},
     "output_type": "display_data"
    }
   ],
   "source": [
    "fig = plt.figure(1, figsize=(12, 8))\n",
    "\n",
    "# Create an axes instance\n",
    "ax = fig.add_subplot(111)\n",
    "plt.title('Ensemble Majority Value as Number of Classifiers Change')\n",
    "plt.xlabel('Number of Classifiers')\n",
    "plt.ylabel('Ensemble Majority Value')\n",
    "#ax.set_xticks(np.arange(0, 1.1, 0.05))\n",
    "#ax.set_yticks(np.arange(0, 1.1, 0.05))\n",
    "plt.ylim([0,1.2])\n",
    "plt.grid()\n",
    "\n",
    "# Create the plot\n",
    "plt.plot(range(1, num_clfs+1), majority_vals);"
   ]
  },
  {
   "cell_type": "code",
   "execution_count": 14,
   "metadata": {
    "slideshow": {
     "slide_type": "slide"
    }
   },
   "outputs": [
    {
     "data": {
      "image/png": "[encoded data removed]",
      "text/plain": [
       "<matplotlib.figure.Figure at 0x10d984320>"
      ]
     },
     "metadata": {},
     "output_type": "display_data"
    }
   ],
   "source": [
    "fig = plt.figure(1, figsize=(12, 8))\n",
    "\n",
    "# Create an axes instance\n",
    "ax = fig.add_subplot(111)\n",
    "plt.title('Ratio of Heads as Number of Classifiers in the Ensemble Increases')\n",
    "plt.xlabel('Number of Classifiers')\n",
    "plt.ylabel('Ratio of Heads')\n",
    "#ax.set_xticks(np.arange(0, 1.1, 0.05))\n",
    "ax.set_yticks(np.arange(0, 1.1, 0.1))\n",
    "plt.ylim([0,1.2])\n",
    "#plt.xlim([0,100])\n",
    "plt.grid()\n",
    "\n",
    "# Create the plot\n",
    "plt.plot(range(1, num_clfs+1), outcome_ratios);"
   ]
  },
  {
   "cell_type": "markdown",
   "metadata": {
    "slideshow": {
     "slide_type": "slide"
    }
   },
   "source": [
    "It takes quite a few classifiers \"ensembled\" together, but somewhere in the vicinity of an ensemble with 150 classifiers, the majority value is always going to give the right prediction!\n",
    "\n",
    "As the accuracy of each individual classifier increases, we need fewer and fewer of them in the ensemble to guarantee that the majority value of their predictions will always be correct.\n",
    "\n",
    "Let's check this..."
   ]
  },
  {
   "cell_type": "markdown",
   "metadata": {
    "slideshow": {
     "slide_type": "slide"
    }
   },
   "source": [
    "## Ways to create ensembles\n",
    "\n",
    "- Take the same classifier/model and copy it many times over. Use a different subset of the training dataset to train each of the models.\n",
    " - Bootstrap Aggregation (Bagging) and Pasting\n",
    " - Random Forest\n",
    " - Boosting\n",
    "- Use different classifiers and train each one on the same training dataset (e.g., Stacking)\n",
    "\n",
    "Ensemble methods work best when each model's prediction is independent of the others and the errors made by one model is different from the errors made by any of the others."
   ]
  },
  {
   "cell_type": "markdown",
   "metadata": {
    "slideshow": {
     "slide_type": "slide"
    }
   },
   "source": [
    "## Bagging and Pasting\n",
    "\n",
    "<img src='../Images/bagging-pasting.png' width='400' />\n",
    "\n",
    "A classic paper in this field is well worth reading -- especially if you're taking a class in statistics.\n",
    "https://www.vanderbilt.edu/psychological_sciences/graduate/programs/quantitative-methods/quantitative-content/diaconis_efron_1983.pdf"
   ]
  },
  {
   "cell_type": "markdown",
   "metadata": {
    "slideshow": {
     "slide_type": "slide"
    }
   },
   "source": [
    "## Random Forest\n",
    "\n",
    "<img src='../Images/random-forests.png' width='400' />"
   ]
  },
  {
   "cell_type": "markdown",
   "metadata": {
    "slideshow": {
     "slide_type": "slide"
    }
   },
   "source": [
    "## Boosting\n",
    "\n",
    "<img src='../Images/boosting.png' width='400' />"
   ]
  },
  {
   "cell_type": "markdown",
   "metadata": {
    "slideshow": {
     "slide_type": "slide"
    }
   },
   "source": [
    "## Stacking\n",
    "\n",
    "<img src='../Images/stacking.png' width='400' />"
   ]
  },
  {
   "cell_type": "markdown",
   "metadata": {
    "slideshow": {
     "slide_type": "slide"
    }
   },
   "source": [
    "## Summary\n",
    "\n",
    "- Ensembles are a great way to improve prediction accuracy.\n",
    "- That simple predictors/models can be aggregated to produce a predictor with much higher accuracy is a surprising and welcome result!\n",
    "- There are 2 ways to construct ensembles:\n",
    " - use the same model with different training datasets, or \n",
    " - use different models with the same training dataset\n",
    "- Ensemble methods work best when each model's prediction is independent of the others and the errors made by one model is different from the errors made by any of the others."
   ]
  },
  {
   "cell_type": "code",
   "execution_count": null,
   "metadata": {
    "collapsed": true,
    "slideshow": {
     "slide_type": "skip"
    }
   },
   "outputs": [],
   "source": []
  }
 ],
 "metadata": {
  "celltoolbar": "Slideshow",
  "kernelspec": {
   "display_name": "Python 3",
   "language": "python",
   "name": "python3"
  },
  "language_info": {
   "codemirror_mode": {
    "name": "ipython",
    "version": 3
   },
   "file_extension": ".py",
   "mimetype": "text/x-python",
   "name": "python",
   "nbconvert_exporter": "python",
   "pygments_lexer": "ipython3",
   "version": "3.6.2"
  }
 },
 "nbformat": 4,
 "nbformat_minor": 2
}
