{
 "cells": [
  {
   "cell_type": "code",
   "execution_count": 21,
   "metadata": {
    "collapsed": true,
    "slideshow": {
     "slide_type": "skip"
    }
   },
   "outputs": [],
   "source": [
    "from IPython.display import Image"
   ]
  },
  {
   "cell_type": "markdown",
   "metadata": {
    "slideshow": {
     "slide_type": "slide"
    }
   },
   "source": [
    "# When Is the Dataset Representative or Balanced?"
   ]
  },
  {
   "cell_type": "markdown",
   "metadata": {
    "slideshow": {
     "slide_type": "slide"
    }
   },
   "source": [
    "Representativeness means one thing in machine learning and something different in statistics.\n",
    "\n",
    "Let's understand what it means in both areas. \n",
    "\n",
    "Let's start with machine learning."
   ]
  },
  {
   "cell_type": "markdown",
   "metadata": {
    "slideshow": {
     "slide_type": "slide"
    }
   },
   "source": [
    "## Representativeness in Machine Learning\n",
    "\n",
    "In machine learning, *representativeness of a feature* is a measure of the frequency with which the values of the feature appear. For categorical features it's simply the relative frequency of each possible value of that feature.\n",
    "\n",
    "If you think back to the telco churn dataset we began the course with, you would have noticed that the feature of being a senior citizen (or not) had values that were distributed as follows."
   ]
  },
  {
   "cell_type": "markdown",
   "metadata": {
    "slideshow": {
     "slide_type": "slide"
    }
   },
   "source": [
    "<img src=\"../Images/telco-senior-citizen.png\" alt=\"SeniorCitizen Attribute Values\" width=\"600px\"/>\n",
    "\n",
    "If we look at the dataset as a whole we find that very few rows have the senior citizen feature value of 1 compared to those rows that have value 0 for this feature. Hence this feature is not representative -- it has many more occurrences of one of the possible values over the other."
   ]
  },
  {
   "cell_type": "markdown",
   "metadata": {
    "slideshow": {
     "slide_type": "slide"
    }
   },
   "source": [
    "Representativeness is highest when the distribution over the range of possible values is *uniform*.\n",
    "\n",
    "So having 50% senior citizens and 50% not senior citizens in the dataset would make that feature representative. As the percentages shift away from 50% (one feature value going lower than 50% and the other going higher than 50%), the feature becomes more and more unrepresentative.\n",
    "\n",
    "You can think of it in terms of how *balanced* the feature's values are between 0 (not a senior citizen) and 1 (senior citizen).\n",
    "\n",
    "There are no rules on when these values go from representative to non-representative. That's a matter of judgement -- but 90% and 10% is clearly not representative and 52% and 48% is clearly representative."
   ]
  },
  {
   "cell_type": "markdown",
   "metadata": {
    "slideshow": {
     "slide_type": "slide"
    }
   },
   "source": [
    "On the other hand, the feature of gender is balanced in the telco churn dataset.\n",
    "\n",
    "<img src=\"../Images/telco-gender-balance.png\" alt=\"Genders are in balance\" style=\"width: 600px;\"/>"
   ]
  },
  {
   "cell_type": "markdown",
   "metadata": {
    "slideshow": {
     "slide_type": "slide"
    }
   },
   "source": [
    "Here is a made-up example to illustrate the point of balance and why it matters to machine learning.\n",
    "\n",
    "<img src=\"../Images/ml-not-balanced.jpg\" alt=\"Contract Types are not in balance\" style=\"width: 600px;\"/>\n",
    "\n",
    "Because the learning algorithm sees very few 2-year contracts, it can't learn as much from this feature value."
   ]
  },
  {
   "cell_type": "markdown",
   "metadata": {
    "slideshow": {
     "slide_type": "slide"
    }
   },
   "source": [
    "On the contrary, here is a representative or balanced feature from a machine learning standpoint.\n",
    "\n",
    "<img src=\"../Images/ml-balanced.jpg\" alt=\"Genders are in balance\" style=\"width: 600px;\"/>\n",
    "\n",
    "In this dataset the machine learning algorithm is able to learn (roughly) equally from both values of the feature."
   ]
  },
  {
   "cell_type": "markdown",
   "metadata": {
    "slideshow": {
     "slide_type": "slide"
    }
   },
   "source": [
    "## Balanced Features in Machine Learning\n",
    "\n",
    "A feature is balanced in a dataset if its values are (roughly) uniformly distributed in that dataset. In particular, machine learning models are sensitive to how balanced the *target* feature in a dataset is.\n",
    "\n",
    "We'll see this come to the fore when we look at measuring the performance of logistic regression models."
   ]
  },
  {
   "cell_type": "markdown",
   "metadata": {
    "slideshow": {
     "slide_type": "slide"
    }
   },
   "source": [
    "## Representativeness in Statistics\n",
    "\n",
    "In statistics, representativeness is a characteristic or property of the sample taken from a population.\n",
    "\n",
    "Let's see what this means..."
   ]
  },
  {
   "cell_type": "markdown",
   "metadata": {
    "slideshow": {
     "slide_type": "slide"
    }
   },
   "source": [
    "Here only 10% of the population are Ph.D.s; but 50% of the sample consists of Ph.D.s.\n",
    "\n",
    "<img src=\"../Images/stats-not-balanced.jpg\" alt=\"Sample is not representative of the population\" style=\"width: 600px;\"/>\n",
    "\n",
    "For the sample to be representative, it must have the same proportion of non-Ph.D.s to Ph.D.s that the population has."
   ]
  },
  {
   "cell_type": "markdown",
   "metadata": {
    "slideshow": {
     "slide_type": "slide"
    }
   },
   "source": [
    "In this case, both the population and the sample have the same proportion of non-Ph.D.s to Ph.D.s. The sample is representative of the population.\n",
    "\n",
    "<img src=\"../Images/stats-balanced.jpg\" alt=\"Sample is not representative of the population\" style=\"width: 600px;\"/>"
   ]
  },
  {
   "cell_type": "markdown",
   "metadata": {
    "slideshow": {
     "slide_type": "slide"
    }
   },
   "source": [
    "## Summary\n",
    "\n",
    "Non-representative samples can lead to terrible mistakes in statistical inference.\n",
    "\n",
    "One way to make sure you have a representative sample is to use [stratified sampling techniques](https://en.wikipedia.org/wiki/Stratified_sampling).\n",
    "\n",
    "Perhaps the most famous error in statistical inference due to non-representative sampling is the [1948 US presidential election](https://www.math.upenn.edu/~deturck/m170/wk4/lecture/case2.html)."
   ]
  }
 ],
 "metadata": {
  "celltoolbar": "Slideshow",
  "kernelspec": {
   "display_name": "Python 3",
   "language": "python",
   "name": "python3"
  },
  "language_info": {
   "codemirror_mode": {
    "name": "ipython",
    "version": 3
   },
   "file_extension": ".py",
   "mimetype": "text/x-python",
   "name": "python",
   "nbconvert_exporter": "python",
   "pygments_lexer": "ipython3",
   "version": "3.6.2"
  }
 },
 "nbformat": 4,
 "nbformat_minor": 2
}
